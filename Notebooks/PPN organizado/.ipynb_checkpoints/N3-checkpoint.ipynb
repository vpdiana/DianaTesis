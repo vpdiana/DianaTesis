{
 "cells": [
  {
   "cell_type": "markdown",
   "id": "ac2d4208-b39e-4476-acad-70014e5d3967",
   "metadata": {},
   "source": [
    "# Notebook 3 — Análisis de frecuencias de la señal EEG  \n",
    "**Canal O1 (Emotiv EPOC+)**\n",
    "\n",
    "**Materias relacionadas:**  \n",
    "*Algoritmos Computacionales, Morfofuncional II, Matemáticas Avanzadas de la Física, Electrofisiología, Instrumentación Biomédica, Temas Selectos en Biomatemáticas y Temas Selectos en Biofísica.*\n",
    "\n",
    "**Antecedentes:**  \n",
    "Notebook 1 — Fisiología básica del EEG y preparación del entorno de Python.  \n",
    "Notebook 2 — **Filtrado digital y análisis temporal de la señal EEG.**\n",
    "\n",
    "**Objetivos:**  \n",
    "- Comprender los fundamentos matemáticos del **análisis espectral** de señales biológicas.  \n",
    "- Aplicar la **Transformada de Fourier** para estudiar la actividad eléctrica cerebral por bandas de frecuencia.  \n",
    "- Cuantificar el **bloqueo alfa** entre las condiciones de ojos abiertos (OA) y ojos cerrados (OC).  \n",
    "\n",
    "Este notebook representa el paso natural después del filtrado:  \n",
    "se abandona el dominio temporal para construir una descripción **frecuencial cuantitativa** del EEG en el canal O1.\n"
   ]
  },
  {
   "cell_type": "code",
   "execution_count": 31,
   "id": "eaa96b1f-b015-4f92-a06f-6476543a5d61",
   "metadata": {},
   "outputs": [],
   "source": [
    "# 3.0 — Configuración general y parámetros experimentales\n",
    "\n",
    "import numpy as np\n",
    "import pandas as pd\n",
    "import matplotlib.pyplot as plt\n",
    "from scipy import signal\n",
    "\n",
    "# --- Estilo de figuras ---\n",
    "plt.rcParams[\"figure.figsize\"] = (10, 6)\n",
    "plt.rcParams[\"figure.dpi\"] = 110\n",
    "plt.rcParams[\"axes.grid\"] = True\n",
    "\n",
    "# --- Parámetros de adquisición ---\n",
    "fm = 128                    # Frecuencia de muestreo (Hz)\n",
    "canal = \"O1\"                # Canal de análisis\n",
    "ti_OA, tf_OA = 105.0, 120.0   # Ojos abiertos (s)\n",
    "ti_OC, tf_OC = 120.0, 135.0   # Ojos cerrados (s)\n",
    "\n",
    "# --- Filtro Butterworth (2–45 Hz) ---\n",
    "f_low, f_high = 2.0, 45.0\n",
    "orden = 4\n",
    "\n",
    "# --- Bandas fisiológicas (Hz) ---\n",
    "bandas = {\n",
    "   \"δ (0.5–4)\" : (0.5, 4.0),\n",
    "   \"θ (4–8)\"   : (4.0, 8.0),\n",
    "   \"α (8–13)\"  : (8.0, 13.0),\n",
    "   \"β (13–30)\" : (13.0, 30.0),\n",
    "   \"γ (30–45)\" : (30.0, 45.0),\n",
    "}\n",
    "\n",
    "# --- Ruta de datos EEG ---\n",
    "ruta_csv = \"/Users/yann/Documents/Tesis/Datos/EEG/H24_OC_OA.csv\"\n"
   ]
  },
  {
   "cell_type": "markdown",
   "id": "8f27d694-8933-428f-a275-113be9b206c4",
   "metadata": {},
   "source": [
    "## 3.1 Fundamentos biomatemáticos del análisis de frecuencias\n",
    "\n",
    "El análisis espectral representa la transición del **dominio temporal** al **dominio frecuencial**,  \n",
    "permitiendo describir cómo la potencia de una señal EEG se distribuye entre las frecuencias que la componen.\n",
    "\n",
    "Después del filtrado digital realizado en el Notebook 2, ahora se busca una representación más estable y reproducible de la actividad eléctrica cerebral.  \n",
    "Cada banda de frecuencia δ, θ, α, β y γ refleja procesos neurales con distintas escalas temporales y niveles de sincronización cortical.  \n",
    "\n",
    "Matemáticamente, el EEG puede modelarse como la suma de procesos oscilatorios elementales.  \n",
    "El modelo no busca “forzar” la fisiología a una ecuación, sino ofrecer un **marco para describir y comparar regularidades** que emergen de ella.  \n",
    "\n",
    "En las siguientes secciones se presentan los principios de la Transformada de Fourier y la densidad espectral de potencia (PSD), base del análisis frecuencial que se aplicará al canal O1.\n"
   ]
  },
  {
   "cell_type": "code",
   "execution_count": null,
   "id": "296f4cb9-2a0c-4279-b064-16f7954eb7cf",
   "metadata": {},
   "outputs": [],
   "source": []
  }
 ],
 "metadata": {
  "kernelspec": {
   "display_name": "Python 3 (ipykernel)",
   "language": "python",
   "name": "python3"
  },
  "language_info": {
   "codemirror_mode": {
    "name": "ipython",
    "version": 3
   },
   "file_extension": ".py",
   "mimetype": "text/x-python",
   "name": "python",
   "nbconvert_exporter": "python",
   "pygments_lexer": "ipython3",
   "version": "3.12.8"
  }
 },
 "nbformat": 4,
 "nbformat_minor": 5
}
